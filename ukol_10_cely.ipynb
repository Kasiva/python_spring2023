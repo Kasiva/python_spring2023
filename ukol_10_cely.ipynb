{
 "cells": [
  {
   "attachments": {},
   "cell_type": "markdown",
   "metadata": {},
   "source": [
    "# Domácí úkol č.10 - Zaměstnanci a Projekty\n",
    "Povinná část - Zadání 1:"
   ]
  },
  {
   "cell_type": "code",
   "execution_count": 76,
   "metadata": {},
   "outputs": [],
   "source": [
    "import pandas"
   ]
  },
  {
   "attachments": {},
   "cell_type": "markdown",
   "metadata": {},
   "source": [
    "Uvažuj, že zpracováváš analýzu pro softwarovou firmu. Firma má kanceláře v Praze, Plzni a Liberci. Seznam zaměstnanců pro jednotlivé kanceláře najdeš v souborech zam_praha.csv, zam_plzeň.csv a zam_liberec.csv."
   ]
  },
  {
   "attachments": {},
   "cell_type": "markdown",
   "metadata": {},
   "source": [
    "Načti data o zaměstnancích z CSV souborů do tabulek (DataFrame). Ke každé tabulce přidej nový sloupec mesto, které bude obsahovat informaci o tom, ve kterém městě zaměstnanec pracuje."
   ]
  },
  {
   "cell_type": "code",
   "execution_count": 77,
   "metadata": {},
   "outputs": [
    {
     "name": "stdout",
     "output_type": "stream",
     "text": [
      "<class 'pandas.core.frame.DataFrame'>\n",
      "RangeIndex: 11 entries, 0 to 10\n",
      "Data columns (total 5 columns):\n",
      " #   Column             Non-Null Count  Dtype \n",
      "---  ------             --------------  ----- \n",
      " 0   jmeno              11 non-null     object\n",
      " 1   prijimeni          11 non-null     object\n",
      " 2   telefonni_cislo    11 non-null     object\n",
      " 3   cislo_zamestnance  11 non-null     int64 \n",
      " 4   mesto              11 non-null     object\n",
      "dtypes: int64(1), object(4)\n",
      "memory usage: 568.0+ bytes\n"
     ]
    }
   ],
   "source": [
    "zam_liberec = pandas.read_csv('zam_liberec.txt')\n",
    "zam_liberec[\"mesto\"] = \"Liberec\"\n",
    "#zam_liberec.shape\n",
    "#zam_liberec.columns\n",
    "zam_liberec.info() # 11 zaznamu\n",
    "#zam_liberec"
   ]
  },
  {
   "cell_type": "code",
   "execution_count": 78,
   "metadata": {},
   "outputs": [
    {
     "name": "stdout",
     "output_type": "stream",
     "text": [
      "<class 'pandas.core.frame.DataFrame'>\n",
      "RangeIndex: 16 entries, 0 to 15\n",
      "Data columns (total 5 columns):\n",
      " #   Column             Non-Null Count  Dtype \n",
      "---  ------             --------------  ----- \n",
      " 0   jmeno              16 non-null     object\n",
      " 1   prijimeni          16 non-null     object\n",
      " 2   telefonni_cislo    16 non-null     object\n",
      " 3   cislo_zamestnance  16 non-null     int64 \n",
      " 4   mesto              16 non-null     object\n",
      "dtypes: int64(1), object(4)\n",
      "memory usage: 768.0+ bytes\n"
     ]
    }
   ],
   "source": [
    "zam_plzeň = pandas.read_csv('zam_plzeň.txt')\n",
    "zam_plzeň[\"mesto\"] = \"Plzeň\"\n",
    "#zam_plzeň.shape\n",
    "#zam_plzeň.columns\n",
    "zam_plzeň.info() # 16 zaznamu\n",
    "#zam_plzeň"
   ]
  },
  {
   "cell_type": "code",
   "execution_count": 79,
   "metadata": {},
   "outputs": [
    {
     "name": "stdout",
     "output_type": "stream",
     "text": [
      "<class 'pandas.core.frame.DataFrame'>\n",
      "RangeIndex: 29 entries, 0 to 28\n",
      "Data columns (total 5 columns):\n",
      " #   Column             Non-Null Count  Dtype \n",
      "---  ------             --------------  ----- \n",
      " 0   jmeno              29 non-null     object\n",
      " 1   prijimeni          29 non-null     object\n",
      " 2   telefonni_cislo    29 non-null     object\n",
      " 3   cislo_zamestnance  29 non-null     int64 \n",
      " 4   mesto              29 non-null     object\n",
      "dtypes: int64(1), object(4)\n",
      "memory usage: 1.3+ KB\n"
     ]
    }
   ],
   "source": [
    "zam_praha = pandas.read_csv('zam_praha.txt')\n",
    "zam_praha[\"mesto\"] = \"Praha\"\n",
    "#zam_praha.shape\n",
    "#zam_praha.columns\n",
    "zam_praha.info() # 29 zaznamu (11+16+29)\n",
    "#zam_praha\n"
   ]
  },
  {
   "attachments": {},
   "cell_type": "markdown",
   "metadata": {},
   "source": [
    "Vytvoř novou tabulku zamestnanci a ulož do ní informace o všech zaměstnancích (operace concat)."
   ]
  },
  {
   "cell_type": "code",
   "execution_count": 80,
   "metadata": {},
   "outputs": [
    {
     "name": "stdout",
     "output_type": "stream",
     "text": [
      "<class 'pandas.core.frame.DataFrame'>\n",
      "RangeIndex: 56 entries, 0 to 55\n",
      "Data columns (total 5 columns):\n",
      " #   Column             Non-Null Count  Dtype \n",
      "---  ------             --------------  ----- \n",
      " 0   jmeno              56 non-null     object\n",
      " 1   prijimeni          56 non-null     object\n",
      " 2   telefonni_cislo    56 non-null     object\n",
      " 3   cislo_zamestnance  56 non-null     int64 \n",
      " 4   mesto              56 non-null     object\n",
      "dtypes: int64(1), object(4)\n",
      "memory usage: 2.3+ KB\n"
     ]
    }
   ],
   "source": [
    "zamestnanci = pandas.concat([zam_liberec, zam_plzeň, zam_praha], ignore_index=True) # nebereme v uvahu indexi z puvodnich tabulek\n",
    "zamestnanci.info() # 56 zaznamu ok  (11+16+29 = 56)\n",
    "#zamestnanci"
   ]
  },
  {
   "attachments": {},
   "cell_type": "markdown",
   "metadata": {},
   "source": [
    "Ze souboru platy_2021_02.csv načti platy zaměstnanců za únor 2021. Propoj tabulku (operace join) s platy a tabulku se zaměstnanci pomocí sloupce cislo_zamestnance."
   ]
  },
  {
   "attachments": {},
   "cell_type": "markdown",
   "metadata": {},
   "source": [
    "Načtení tabulky platy_2021_02.csv"
   ]
  },
  {
   "cell_type": "code",
   "execution_count": 81,
   "metadata": {},
   "outputs": [
    {
     "name": "stdout",
     "output_type": "stream",
     "text": [
      "<class 'pandas.core.frame.DataFrame'>\n",
      "RangeIndex: 43 entries, 0 to 42\n",
      "Data columns (total 2 columns):\n",
      " #   Column             Non-Null Count  Dtype  \n",
      "---  ------             --------------  -----  \n",
      " 0   cislo_zamestnance  43 non-null     int64  \n",
      " 1   plat               43 non-null     float64\n",
      "dtypes: float64(1), int64(1)\n",
      "memory usage: 816.0 bytes\n"
     ]
    }
   ],
   "source": [
    "platy_2021_02 = pandas.read_csv('platy_2021_02.txt')\n",
    "platy_2021_02.info() # 43 zaznamu\n",
    "#platy_2021_02"
   ]
  },
  {
   "attachments": {},
   "cell_type": "markdown",
   "metadata": {},
   "source": [
    "Propojení tabulek platy_2021_02 a zamestnanci přes cislo_zamestnance"
   ]
  },
  {
   "cell_type": "code",
   "execution_count": 82,
   "metadata": {},
   "outputs": [
    {
     "name": "stdout",
     "output_type": "stream",
     "text": [
      "<class 'pandas.core.frame.DataFrame'>\n",
      "Int64Index: 43 entries, 0 to 42\n",
      "Data columns (total 6 columns):\n",
      " #   Column             Non-Null Count  Dtype  \n",
      "---  ------             --------------  -----  \n",
      " 0   jmeno              43 non-null     object \n",
      " 1   prijimeni          43 non-null     object \n",
      " 2   telefonni_cislo    43 non-null     object \n",
      " 3   cislo_zamestnance  43 non-null     int64  \n",
      " 4   mesto              43 non-null     object \n",
      " 5   plat               43 non-null     float64\n",
      "dtypes: float64(1), int64(1), object(4)\n",
      "memory usage: 2.4+ KB\n"
     ]
    }
   ],
   "source": [
    "zamestnanci_platy_2021_02 = pandas.merge(zamestnanci, platy_2021_02, on=['cislo_zamestnance'])\n",
    "#zamestnanci_platy_2021_02\n",
    "zamestnanci_platy_2021_02.info() #43 zaznamu ok"
   ]
  },
  {
   "attachments": {},
   "cell_type": "markdown",
   "metadata": {},
   "source": [
    "Porovnej rozměry tabulek před spojením a po spojení. Pokud nemá některý zaměstnanec plat za únor, znamená to, že v naší firmě již nepracuje."
   ]
  },
  {
   "cell_type": "code",
   "execution_count": 83,
   "metadata": {},
   "outputs": [
    {
     "name": "stdout",
     "output_type": "stream",
     "text": [
      "<class 'pandas.core.frame.DataFrame'>\n",
      "RangeIndex: 43 entries, 0 to 42\n",
      "Data columns (total 2 columns):\n",
      " #   Column             Non-Null Count  Dtype  \n",
      "---  ------             --------------  -----  \n",
      " 0   cislo_zamestnance  43 non-null     int64  \n",
      " 1   plat               43 non-null     float64\n",
      "dtypes: float64(1), int64(1)\n",
      "memory usage: 816.0 bytes\n",
      "<class 'pandas.core.frame.DataFrame'>\n",
      "Int64Index: 43 entries, 0 to 42\n",
      "Data columns (total 6 columns):\n",
      " #   Column             Non-Null Count  Dtype  \n",
      "---  ------             --------------  -----  \n",
      " 0   jmeno              43 non-null     object \n",
      " 1   prijimeni          43 non-null     object \n",
      " 2   telefonni_cislo    43 non-null     object \n",
      " 3   cislo_zamestnance  43 non-null     int64  \n",
      " 4   mesto              43 non-null     object \n",
      " 5   plat               43 non-null     float64\n",
      "dtypes: float64(1), int64(1), object(4)\n",
      "memory usage: 2.4+ KB\n",
      "<class 'pandas.core.frame.DataFrame'>\n",
      "RangeIndex: 56 entries, 0 to 55\n",
      "Data columns (total 5 columns):\n",
      " #   Column             Non-Null Count  Dtype \n",
      "---  ------             --------------  ----- \n",
      " 0   jmeno              56 non-null     object\n",
      " 1   prijimeni          56 non-null     object\n",
      " 2   telefonni_cislo    56 non-null     object\n",
      " 3   cislo_zamestnance  56 non-null     int64 \n",
      " 4   mesto              56 non-null     object\n",
      "dtypes: int64(1), object(4)\n",
      "memory usage: 2.3+ KB\n"
     ]
    }
   ],
   "source": [
    "platy_2021_02.info() # 43\n",
    "zamestnanci_platy_2021_02.info()  # 43\n",
    "zamestnanci.info()  # 56"
   ]
  },
  {
   "attachments": {},
   "cell_type": "markdown",
   "metadata": {},
   "source": [
    "to znamená, že v únoru nepracuje již 13 zamestnanců"
   ]
  },
  {
   "attachments": {},
   "cell_type": "markdown",
   "metadata": {},
   "source": [
    "pro me kontrola kolik v kazdem meste odeslo zamestnancu v unoru"
   ]
  },
  {
   "cell_type": "code",
   "execution_count": 84,
   "metadata": {},
   "outputs": [
    {
     "data": {
      "text/plain": [
       "mesto\n",
       "Liberec     8\n",
       "Plzeň      14\n",
       "Praha      21\n",
       "Name: cislo_zamestnance, dtype: int64"
      ]
     },
     "execution_count": 84,
     "metadata": {},
     "output_type": "execute_result"
    }
   ],
   "source": [
    "zamestnanci_platy_2021_02.groupby(\"mesto\")[\"cislo_zamestnance\"].count()\n",
    "#zamestnanci.groupby(\"mesto\").count()"
   ]
  },
  {
   "attachments": {},
   "cell_type": "markdown",
   "metadata": {},
   "source": [
    "a to v Liberci - 3, Plzni - 2 a Praze - 8 (3+2+8=13)"
   ]
  },
  {
   "attachments": {},
   "cell_type": "markdown",
   "metadata": {},
   "source": [
    "Spočti průměrný plat zaměstnanců v jednotlivých kancelářích.\n",
    "Zadání 2"
   ]
  },
  {
   "cell_type": "code",
   "execution_count": 85,
   "metadata": {},
   "outputs": [
    {
     "data": {
      "text/plain": [
       "mesto\n",
       "Liberec    43775.00\n",
       "Plzeň      44792.86\n",
       "Praha      43295.24\n",
       "Name: plat, dtype: float64"
      ]
     },
     "execution_count": 85,
     "metadata": {},
     "output_type": "execute_result"
    }
   ],
   "source": [
    "zamestnanci_platy_2021_02.groupby(\"mesto\")['plat'].mean().round(2) "
   ]
  },
  {
   "attachments": {},
   "cell_type": "markdown",
   "metadata": {},
   "source": [
    "Povinná část - Zadání 2:"
   ]
  },
  {
   "attachments": {},
   "cell_type": "markdown",
   "metadata": {},
   "source": [
    "Pokračuj ve své práci pro softwarovou firmu. Ze souboru vykazy.csv načti informace o výkazech na projekty pro jednoho vybraného zákazníka."
   ]
  },
  {
   "attachments": {},
   "cell_type": "markdown",
   "metadata": {},
   "source": [
    "Načti data ze souboru a ulož je do tabulky."
   ]
  },
  {
   "cell_type": "code",
   "execution_count": 86,
   "metadata": {},
   "outputs": [
    {
     "name": "stdout",
     "output_type": "stream",
     "text": [
      "<class 'pandas.core.frame.DataFrame'>\n",
      "RangeIndex: 27 entries, 0 to 26\n",
      "Data columns (total 4 columns):\n",
      " #   Column      Non-Null Count  Dtype  \n",
      "---  ------      --------------  -----  \n",
      " 0   date        27 non-null     object \n",
      " 1   hours       27 non-null     float64\n",
      " 2   project     27 non-null     object \n",
      " 3   emloyee_id  27 non-null     int64  \n",
      "dtypes: float64(1), int64(1), object(2)\n",
      "memory usage: 992.0+ bytes\n"
     ]
    },
    {
     "data": {
      "text/html": [
       "<div>\n",
       "<style scoped>\n",
       "    .dataframe tbody tr th:only-of-type {\n",
       "        vertical-align: middle;\n",
       "    }\n",
       "\n",
       "    .dataframe tbody tr th {\n",
       "        vertical-align: top;\n",
       "    }\n",
       "\n",
       "    .dataframe thead th {\n",
       "        text-align: right;\n",
       "    }\n",
       "</style>\n",
       "<table border=\"1\" class=\"dataframe\">\n",
       "  <thead>\n",
       "    <tr style=\"text-align: right;\">\n",
       "      <th></th>\n",
       "      <th>date</th>\n",
       "      <th>hours</th>\n",
       "      <th>project</th>\n",
       "      <th>emloyee_id</th>\n",
       "    </tr>\n",
       "  </thead>\n",
       "  <tbody>\n",
       "    <tr>\n",
       "      <th>0</th>\n",
       "      <td>2021-02-01</td>\n",
       "      <td>2.5</td>\n",
       "      <td>F30</td>\n",
       "      <td>13</td>\n",
       "    </tr>\n",
       "    <tr>\n",
       "      <th>1</th>\n",
       "      <td>2021-02-01</td>\n",
       "      <td>3.4</td>\n",
       "      <td>W05</td>\n",
       "      <td>70</td>\n",
       "    </tr>\n",
       "  </tbody>\n",
       "</table>\n",
       "</div>"
      ],
      "text/plain": [
       "         date  hours project  emloyee_id\n",
       "0  2021-02-01    2.5     F30          13\n",
       "1  2021-02-01    3.4     W05          70"
      ]
     },
     "execution_count": 86,
     "metadata": {},
     "output_type": "execute_result"
    }
   ],
   "source": [
    "vykazy = pandas.read_csv('vykazy.txt')\n",
    "vykazy.info()\n",
    "vykazy.head(2)"
   ]
  },
  {
   "attachments": {},
   "cell_type": "markdown",
   "metadata": {},
   "source": [
    "Proveď agregaci a zjisti celkový počet vykázaných hodin za jednotlivé projekty."
   ]
  },
  {
   "cell_type": "code",
   "execution_count": 87,
   "metadata": {},
   "outputs": [
    {
     "data": {
      "text/html": [
       "<div>\n",
       "<style scoped>\n",
       "    .dataframe tbody tr th:only-of-type {\n",
       "        vertical-align: middle;\n",
       "    }\n",
       "\n",
       "    .dataframe tbody tr th {\n",
       "        vertical-align: top;\n",
       "    }\n",
       "\n",
       "    .dataframe thead th {\n",
       "        text-align: right;\n",
       "    }\n",
       "</style>\n",
       "<table border=\"1\" class=\"dataframe\">\n",
       "  <thead>\n",
       "    <tr style=\"text-align: right;\">\n",
       "      <th></th>\n",
       "      <th>project</th>\n",
       "      <th>hours</th>\n",
       "    </tr>\n",
       "  </thead>\n",
       "  <tbody>\n",
       "    <tr>\n",
       "      <th>0</th>\n",
       "      <td>F30</td>\n",
       "      <td>21.5</td>\n",
       "    </tr>\n",
       "    <tr>\n",
       "      <th>1</th>\n",
       "      <td>JL9</td>\n",
       "      <td>2.1</td>\n",
       "    </tr>\n",
       "    <tr>\n",
       "      <th>2</th>\n",
       "      <td>TE1</td>\n",
       "      <td>16.0</td>\n",
       "    </tr>\n",
       "    <tr>\n",
       "      <th>3</th>\n",
       "      <td>W05</td>\n",
       "      <td>30.5</td>\n",
       "    </tr>\n",
       "    <tr>\n",
       "      <th>4</th>\n",
       "      <td>YLI</td>\n",
       "      <td>31.0</td>\n",
       "    </tr>\n",
       "  </tbody>\n",
       "</table>\n",
       "</div>"
      ],
      "text/plain": [
       "  project  hours\n",
       "0     F30   21.5\n",
       "1     JL9    2.1\n",
       "2     TE1   16.0\n",
       "3     W05   30.5\n",
       "4     YLI   31.0"
      ]
     },
     "execution_count": 87,
     "metadata": {},
     "output_type": "execute_result"
    }
   ],
   "source": [
    "celkem_projekt=vykazy.groupby(\"project\")['hours'].sum().reset_index()\n",
    "celkem_projekt"
   ]
  },
  {
   "attachments": {},
   "cell_type": "markdown",
   "metadata": {},
   "source": [
    "Bonus 1:"
   ]
  },
  {
   "attachments": {},
   "cell_type": "markdown",
   "metadata": {},
   "source": [
    "Ulož do proměnné počet zaměstnanců, kteří v naší firmě již nepracují."
   ]
  },
  {
   "cell_type": "code",
   "execution_count": 88,
   "metadata": {},
   "outputs": [
    {
     "data": {
      "text/plain": [
       "13"
      ]
     },
     "execution_count": 88,
     "metadata": {},
     "output_type": "execute_result"
    }
   ],
   "source": [
    "pocet_ex_zam_obdobi = zamestnanci['cislo_zamestnance'].count()-zamestnanci_platy_2021_02['cislo_zamestnance'].count()\n",
    "pocet_ex_zam_obdobi"
   ]
  },
  {
   "attachments": {},
   "cell_type": "markdown",
   "metadata": {},
   "source": [
    "V rámci úspory se IT oddělení rozhodlo prověřit licence přidělené zaměstnancům, kteří ve firmě již nepracují. Vytvoř samostatnou tabulku, která obsahuje jména zaměstnanců, kteří ve firmě již nepracují. Tabulku ulož do souboru CSV."
   ]
  },
  {
   "attachments": {},
   "cell_type": "markdown",
   "metadata": {},
   "source": [
    "provedla jsem nove spojeni (zamestnanci a platy), abych tam mela i NaN hodnoty a to pomoci how=\"outer\". A toto df jsem pouzila pro reseni tohoto ukolu."
   ]
  },
  {
   "cell_type": "code",
   "execution_count": 89,
   "metadata": {},
   "outputs": [
    {
     "name": "stdout",
     "output_type": "stream",
     "text": [
      "<class 'pandas.core.frame.DataFrame'>\n",
      "Int64Index: 56 entries, 0 to 55\n",
      "Data columns (total 6 columns):\n",
      " #   Column             Non-Null Count  Dtype  \n",
      "---  ------             --------------  -----  \n",
      " 0   jmeno              56 non-null     object \n",
      " 1   prijimeni          56 non-null     object \n",
      " 2   telefonni_cislo    56 non-null     object \n",
      " 3   cislo_zamestnance  56 non-null     int64  \n",
      " 4   mesto              56 non-null     object \n",
      " 5   plat               43 non-null     float64\n",
      "dtypes: float64(1), int64(1), object(4)\n",
      "memory usage: 3.1+ KB\n"
     ]
    }
   ],
   "source": [
    "zamestnanci_platy_2021_02_nove = pandas.merge(zamestnanci, platy_2021_02, on=['cislo_zamestnance'], how=\"outer\")\n",
    "zamestnanci_platy_2021_02_nove.info()\n",
    "#zamestnanci_platy_2021_02_nove.head(6)"
   ]
  },
  {
   "cell_type": "code",
   "execution_count": 90,
   "metadata": {},
   "outputs": [
    {
     "data": {
      "text/html": [
       "<div>\n",
       "<style scoped>\n",
       "    .dataframe tbody tr th:only-of-type {\n",
       "        vertical-align: middle;\n",
       "    }\n",
       "\n",
       "    .dataframe tbody tr th {\n",
       "        vertical-align: top;\n",
       "    }\n",
       "\n",
       "    .dataframe thead th {\n",
       "        text-align: right;\n",
       "    }\n",
       "</style>\n",
       "<table border=\"1\" class=\"dataframe\">\n",
       "  <thead>\n",
       "    <tr style=\"text-align: right;\">\n",
       "      <th></th>\n",
       "      <th>jmeno</th>\n",
       "      <th>prijimeni</th>\n",
       "      <th>telefonni_cislo</th>\n",
       "      <th>cislo_zamestnance</th>\n",
       "      <th>mesto</th>\n",
       "      <th>plat</th>\n",
       "    </tr>\n",
       "  </thead>\n",
       "  <tbody>\n",
       "    <tr>\n",
       "      <th>3</th>\n",
       "      <td>Jennifer</td>\n",
       "      <td>Brown</td>\n",
       "      <td>775 545 190</td>\n",
       "      <td>86</td>\n",
       "      <td>Liberec</td>\n",
       "      <td>NaN</td>\n",
       "    </tr>\n",
       "    <tr>\n",
       "      <th>5</th>\n",
       "      <td>Robert</td>\n",
       "      <td>Macias</td>\n",
       "      <td>+421 49 929 6856</td>\n",
       "      <td>88</td>\n",
       "      <td>Liberec</td>\n",
       "      <td>NaN</td>\n",
       "    </tr>\n",
       "    <tr>\n",
       "      <th>10</th>\n",
       "      <td>Ivan</td>\n",
       "      <td>Bartoš</td>\n",
       "      <td>603 226 051</td>\n",
       "      <td>99</td>\n",
       "      <td>Liberec</td>\n",
       "      <td>NaN</td>\n",
       "    </tr>\n",
       "    <tr>\n",
       "      <th>15</th>\n",
       "      <td>Jindřich</td>\n",
       "      <td>Howell</td>\n",
       "      <td>+421 39 043 0948</td>\n",
       "      <td>10</td>\n",
       "      <td>Plzeň</td>\n",
       "      <td>NaN</td>\n",
       "    </tr>\n",
       "    <tr>\n",
       "      <th>16</th>\n",
       "      <td>Alexander</td>\n",
       "      <td>Martinez</td>\n",
       "      <td>721 195 689</td>\n",
       "      <td>13</td>\n",
       "      <td>Plzeň</td>\n",
       "      <td>NaN</td>\n",
       "    </tr>\n",
       "    <tr>\n",
       "      <th>31</th>\n",
       "      <td>Marcel</td>\n",
       "      <td>Hájek</td>\n",
       "      <td>+421 902 928 669</td>\n",
       "      <td>35</td>\n",
       "      <td>Praha</td>\n",
       "      <td>NaN</td>\n",
       "    </tr>\n",
       "    <tr>\n",
       "      <th>39</th>\n",
       "      <td>Karolína</td>\n",
       "      <td>Short</td>\n",
       "      <td>721 589 083</td>\n",
       "      <td>53</td>\n",
       "      <td>Praha</td>\n",
       "      <td>NaN</td>\n",
       "    </tr>\n",
       "    <tr>\n",
       "      <th>40</th>\n",
       "      <td>Michelle</td>\n",
       "      <td>Vlčková</td>\n",
       "      <td>+421 41 720 7806</td>\n",
       "      <td>54</td>\n",
       "      <td>Praha</td>\n",
       "      <td>NaN</td>\n",
       "    </tr>\n",
       "    <tr>\n",
       "      <th>43</th>\n",
       "      <td>John</td>\n",
       "      <td>Bailey</td>\n",
       "      <td>775 021 116</td>\n",
       "      <td>58</td>\n",
       "      <td>Praha</td>\n",
       "      <td>NaN</td>\n",
       "    </tr>\n",
       "    <tr>\n",
       "      <th>44</th>\n",
       "      <td>William</td>\n",
       "      <td>Shelton</td>\n",
       "      <td>+421 47 745 8219</td>\n",
       "      <td>60</td>\n",
       "      <td>Praha</td>\n",
       "      <td>NaN</td>\n",
       "    </tr>\n",
       "    <tr>\n",
       "      <th>45</th>\n",
       "      <td>Miroslava</td>\n",
       "      <td>Veselá</td>\n",
       "      <td>774 029 254</td>\n",
       "      <td>62</td>\n",
       "      <td>Praha</td>\n",
       "      <td>NaN</td>\n",
       "    </tr>\n",
       "    <tr>\n",
       "      <th>48</th>\n",
       "      <td>Nathan</td>\n",
       "      <td>Svoboda</td>\n",
       "      <td>728 710 923</td>\n",
       "      <td>66</td>\n",
       "      <td>Praha</td>\n",
       "      <td>NaN</td>\n",
       "    </tr>\n",
       "    <tr>\n",
       "      <th>51</th>\n",
       "      <td>Robert</td>\n",
       "      <td>Říha</td>\n",
       "      <td>727 351 984</td>\n",
       "      <td>72</td>\n",
       "      <td>Praha</td>\n",
       "      <td>NaN</td>\n",
       "    </tr>\n",
       "  </tbody>\n",
       "</table>\n",
       "</div>"
      ],
      "text/plain": [
       "        jmeno prijimeni   telefonni_cislo  cislo_zamestnance    mesto  plat\n",
       "3    Jennifer     Brown       775 545 190                 86  Liberec   NaN\n",
       "5      Robert    Macias  +421 49 929 6856                 88  Liberec   NaN\n",
       "10       Ivan    Bartoš       603 226 051                 99  Liberec   NaN\n",
       "15   Jindřich    Howell  +421 39 043 0948                 10    Plzeň   NaN\n",
       "16  Alexander  Martinez       721 195 689                 13    Plzeň   NaN\n",
       "31     Marcel     Hájek  +421 902 928 669                 35    Praha   NaN\n",
       "39   Karolína     Short       721 589 083                 53    Praha   NaN\n",
       "40   Michelle   Vlčková  +421 41 720 7806                 54    Praha   NaN\n",
       "43       John    Bailey       775 021 116                 58    Praha   NaN\n",
       "44    William   Shelton  +421 47 745 8219                 60    Praha   NaN\n",
       "45  Miroslava    Veselá       774 029 254                 62    Praha   NaN\n",
       "48     Nathan   Svoboda       728 710 923                 66    Praha   NaN\n",
       "51     Robert      Říha       727 351 984                 72    Praha   NaN"
      ]
     },
     "execution_count": 90,
     "metadata": {},
     "output_type": "execute_result"
    }
   ],
   "source": [
    "byvaly_zamestnanci = zamestnanci_platy_2021_02_nove[zamestnanci_platy_2021_02_nove[\"plat\"].isna()]\n",
    "#byvaly_zamestnanci.info()\n",
    "byvaly_zamestnanci"
   ]
  },
  {
   "cell_type": "code",
   "execution_count": 91,
   "metadata": {},
   "outputs": [],
   "source": [
    "byvaly_zamestnanci.to_csv('byvaly_zamestnanci.csv', index=False)"
   ]
  },
  {
   "attachments": {},
   "cell_type": "markdown",
   "metadata": {},
   "source": [
    "Bonus 2:"
   ]
  },
  {
   "attachments": {},
   "cell_type": "markdown",
   "metadata": {},
   "source": [
    "Propoj tabulku s výkazy s tabulkou se zaměstnanci, kterou jsi vytvořil(a) v předchozím cvičení."
   ]
  },
  {
   "attachments": {},
   "cell_type": "markdown",
   "metadata": {},
   "source": [
    "nejprve jsem si prejmenovala sloupec ve vykazech a tuto novou df jsem pouzila pro spojeni zamestnanci, a tato nova df byla pouzita pro reseni ukolu"
   ]
  },
  {
   "cell_type": "code",
   "execution_count": 92,
   "metadata": {},
   "outputs": [
    {
     "name": "stdout",
     "output_type": "stream",
     "text": [
      "<class 'pandas.core.frame.DataFrame'>\n",
      "RangeIndex: 27 entries, 0 to 26\n",
      "Data columns (total 4 columns):\n",
      " #   Column             Non-Null Count  Dtype  \n",
      "---  ------             --------------  -----  \n",
      " 0   date               27 non-null     object \n",
      " 1   hours              27 non-null     float64\n",
      " 2   project            27 non-null     object \n",
      " 3   cislo_zamestnance  27 non-null     int64  \n",
      "dtypes: float64(1), int64(1), object(2)\n",
      "memory usage: 992.0+ bytes\n"
     ]
    }
   ],
   "source": [
    "vykazy_nove = vykazy.rename(columns={'emloyee_id': 'cislo_zamestnance'})\n",
    "#vykazy_nove.head(6)\n",
    "vykazy_nove.info()"
   ]
  },
  {
   "cell_type": "code",
   "execution_count": 93,
   "metadata": {},
   "outputs": [
    {
     "name": "stdout",
     "output_type": "stream",
     "text": [
      "<class 'pandas.core.frame.DataFrame'>\n",
      "Int64Index: 62 entries, 0 to 61\n",
      "Data columns (total 8 columns):\n",
      " #   Column             Non-Null Count  Dtype  \n",
      "---  ------             --------------  -----  \n",
      " 0   jmeno              62 non-null     object \n",
      " 1   prijimeni          62 non-null     object \n",
      " 2   telefonni_cislo    62 non-null     object \n",
      " 3   cislo_zamestnance  62 non-null     int64  \n",
      " 4   mesto              62 non-null     object \n",
      " 5   date               27 non-null     object \n",
      " 6   hours              27 non-null     float64\n",
      " 7   project            27 non-null     object \n",
      "dtypes: float64(1), int64(1), object(6)\n",
      "memory usage: 4.4+ KB\n"
     ]
    }
   ],
   "source": [
    "zamestnanci_projekty = pandas.merge(zamestnanci, vykazy_nove, on=['cislo_zamestnance'], how=\"outer\")\n",
    "zamestnanci_projekty.info()\n",
    "#ruzne kontroly zda ok\n",
    "#zamestnanci_projekty[zamestnanci_projekty[\"project\"].isna()].info()\n",
    "# zamestnanci_projekty.groupby(\"mesto\")[\"cislo_zamestnance\"].count()\n",
    "#zamestnanci_projekty.groupby(\"cislo_zamestnance\")[\"mesto\"].count().sort_values().tail(10) #kontrola opakovani id v projektu\n",
    "#zamestnanci_projekty"
   ]
  },
  {
   "attachments": {},
   "cell_type": "markdown",
   "metadata": {},
   "source": [
    "Následně proveď statistiku vykázaných hodin za jednotlivé kanceláře, tj. spočítej celkový počet hodin vykázaný zaměstnanci jednotlivých kanceláří na projekty daného zákazníka."
   ]
  },
  {
   "attachments": {},
   "cell_type": "markdown",
   "metadata": {},
   "source": [
    "vytvoreni nove df ze zamestnanci_projekty bez hodnot NaN na radcich pro nasledny ukol"
   ]
  },
  {
   "cell_type": "code",
   "execution_count": 94,
   "metadata": {},
   "outputs": [
    {
     "name": "stdout",
     "output_type": "stream",
     "text": [
      "<class 'pandas.core.frame.DataFrame'>\n",
      "Int64Index: 27 entries, 0 to 57\n",
      "Data columns (total 8 columns):\n",
      " #   Column             Non-Null Count  Dtype  \n",
      "---  ------             --------------  -----  \n",
      " 0   jmeno              27 non-null     object \n",
      " 1   prijimeni          27 non-null     object \n",
      " 2   telefonni_cislo    27 non-null     object \n",
      " 3   cislo_zamestnance  27 non-null     int64  \n",
      " 4   mesto              27 non-null     object \n",
      " 5   date               27 non-null     object \n",
      " 6   hours              27 non-null     float64\n",
      " 7   project            27 non-null     object \n",
      "dtypes: float64(1), int64(1), object(6)\n",
      "memory usage: 1.9+ KB\n"
     ]
    }
   ],
   "source": [
    "zamestnanci_projekty_nove = zamestnanci_projekty.dropna(subset=[\"project\"])\n",
    "zamestnanci_projekty_nove.info()\n",
    "#zamestnanci_projekty_nove"
   ]
  },
  {
   "attachments": {},
   "cell_type": "markdown",
   "metadata": {},
   "source": [
    "dva ruzne pohledy: nejprve pres mesto a pote projekt, podruhe pres projekt a pote mesto"
   ]
  },
  {
   "cell_type": "code",
   "execution_count": 95,
   "metadata": {},
   "outputs": [
    {
     "data": {
      "text/plain": [
       "mesto    project\n",
       "Liberec  TE1        10.8\n",
       "         W05         5.4\n",
       "         YLI        11.8\n",
       "Plzeň    F30        10.3\n",
       "         YLI         5.3\n",
       "Praha    F30        11.2\n",
       "         JL9         2.1\n",
       "         TE1         5.2\n",
       "         W05        25.1\n",
       "         YLI        13.9\n",
       "Name: hours, dtype: float64"
      ]
     },
     "execution_count": 95,
     "metadata": {},
     "output_type": "execute_result"
    }
   ],
   "source": [
    "zamestnanci_projekty_nove.groupby(['mesto', 'project'])[\"hours\"].sum()"
   ]
  },
  {
   "cell_type": "code",
   "execution_count": 96,
   "metadata": {},
   "outputs": [
    {
     "data": {
      "text/html": [
       "<div>\n",
       "<style scoped>\n",
       "    .dataframe tbody tr th:only-of-type {\n",
       "        vertical-align: middle;\n",
       "    }\n",
       "\n",
       "    .dataframe tbody tr th {\n",
       "        vertical-align: top;\n",
       "    }\n",
       "\n",
       "    .dataframe thead th {\n",
       "        text-align: right;\n",
       "    }\n",
       "</style>\n",
       "<table border=\"1\" class=\"dataframe\">\n",
       "  <thead>\n",
       "    <tr style=\"text-align: right;\">\n",
       "      <th></th>\n",
       "      <th>project</th>\n",
       "      <th>mesto</th>\n",
       "      <th>hours</th>\n",
       "    </tr>\n",
       "  </thead>\n",
       "  <tbody>\n",
       "    <tr>\n",
       "      <th>0</th>\n",
       "      <td>F30</td>\n",
       "      <td>Plzeň</td>\n",
       "      <td>10.3</td>\n",
       "    </tr>\n",
       "    <tr>\n",
       "      <th>1</th>\n",
       "      <td>F30</td>\n",
       "      <td>Praha</td>\n",
       "      <td>11.2</td>\n",
       "    </tr>\n",
       "    <tr>\n",
       "      <th>2</th>\n",
       "      <td>JL9</td>\n",
       "      <td>Praha</td>\n",
       "      <td>2.1</td>\n",
       "    </tr>\n",
       "    <tr>\n",
       "      <th>3</th>\n",
       "      <td>TE1</td>\n",
       "      <td>Liberec</td>\n",
       "      <td>10.8</td>\n",
       "    </tr>\n",
       "    <tr>\n",
       "      <th>4</th>\n",
       "      <td>TE1</td>\n",
       "      <td>Praha</td>\n",
       "      <td>5.2</td>\n",
       "    </tr>\n",
       "    <tr>\n",
       "      <th>5</th>\n",
       "      <td>W05</td>\n",
       "      <td>Liberec</td>\n",
       "      <td>5.4</td>\n",
       "    </tr>\n",
       "    <tr>\n",
       "      <th>6</th>\n",
       "      <td>W05</td>\n",
       "      <td>Praha</td>\n",
       "      <td>25.1</td>\n",
       "    </tr>\n",
       "    <tr>\n",
       "      <th>7</th>\n",
       "      <td>YLI</td>\n",
       "      <td>Liberec</td>\n",
       "      <td>11.8</td>\n",
       "    </tr>\n",
       "    <tr>\n",
       "      <th>8</th>\n",
       "      <td>YLI</td>\n",
       "      <td>Plzeň</td>\n",
       "      <td>5.3</td>\n",
       "    </tr>\n",
       "    <tr>\n",
       "      <th>9</th>\n",
       "      <td>YLI</td>\n",
       "      <td>Praha</td>\n",
       "      <td>13.9</td>\n",
       "    </tr>\n",
       "  </tbody>\n",
       "</table>\n",
       "</div>"
      ],
      "text/plain": [
       "  project    mesto  hours\n",
       "0     F30    Plzeň   10.3\n",
       "1     F30    Praha   11.2\n",
       "2     JL9    Praha    2.1\n",
       "3     TE1  Liberec   10.8\n",
       "4     TE1    Praha    5.2\n",
       "5     W05  Liberec    5.4\n",
       "6     W05    Praha   25.1\n",
       "7     YLI  Liberec   11.8\n",
       "8     YLI    Plzeň    5.3\n",
       "9     YLI    Praha   13.9"
      ]
     },
     "execution_count": 96,
     "metadata": {},
     "output_type": "execute_result"
    }
   ],
   "source": [
    "hodiny_mesto_projekt=zamestnanci_projekty_nove.groupby(['project', 'mesto'])[\"hours\"].sum().reset_index()\n",
    "#hodiny_mesto_projekt.info() # 10 zaznamu\n",
    "hodiny_mesto_projekt"
   ]
  },
  {
   "attachments": {},
   "cell_type": "markdown",
   "metadata": {},
   "source": [
    "chtela jsem jeste celkovy pohled, kde uvidim celkem hodin za projekt a po te po meste. Vzala jsem celkem_projekt (vytvorenou z vykazu viz povinna cast) - upravila jsem jmeno sloupce hours na celkem_hodin_projekt a hodiny_mesto_projekt viz vyse a spojila"
   ]
  },
  {
   "cell_type": "code",
   "execution_count": 97,
   "metadata": {},
   "outputs": [
    {
     "data": {
      "text/html": [
       "<div>\n",
       "<style scoped>\n",
       "    .dataframe tbody tr th:only-of-type {\n",
       "        vertical-align: middle;\n",
       "    }\n",
       "\n",
       "    .dataframe tbody tr th {\n",
       "        vertical-align: top;\n",
       "    }\n",
       "\n",
       "    .dataframe thead th {\n",
       "        text-align: right;\n",
       "    }\n",
       "</style>\n",
       "<table border=\"1\" class=\"dataframe\">\n",
       "  <thead>\n",
       "    <tr style=\"text-align: right;\">\n",
       "      <th></th>\n",
       "      <th>project</th>\n",
       "      <th>celkem_hodin_projekt</th>\n",
       "    </tr>\n",
       "  </thead>\n",
       "  <tbody>\n",
       "    <tr>\n",
       "      <th>0</th>\n",
       "      <td>F30</td>\n",
       "      <td>21.5</td>\n",
       "    </tr>\n",
       "    <tr>\n",
       "      <th>1</th>\n",
       "      <td>JL9</td>\n",
       "      <td>2.1</td>\n",
       "    </tr>\n",
       "    <tr>\n",
       "      <th>2</th>\n",
       "      <td>TE1</td>\n",
       "      <td>16.0</td>\n",
       "    </tr>\n",
       "    <tr>\n",
       "      <th>3</th>\n",
       "      <td>W05</td>\n",
       "      <td>30.5</td>\n",
       "    </tr>\n",
       "    <tr>\n",
       "      <th>4</th>\n",
       "      <td>YLI</td>\n",
       "      <td>31.0</td>\n",
       "    </tr>\n",
       "  </tbody>\n",
       "</table>\n",
       "</div>"
      ],
      "text/plain": [
       "  project  celkem_hodin_projekt\n",
       "0     F30                  21.5\n",
       "1     JL9                   2.1\n",
       "2     TE1                  16.0\n",
       "3     W05                  30.5\n",
       "4     YLI                  31.0"
      ]
     },
     "execution_count": 97,
     "metadata": {},
     "output_type": "execute_result"
    }
   ],
   "source": [
    "celkem_projekt=celkem_projekt.rename(columns={'hours': 'celkem_hodin_projekt'}) # uprava jmena sloupce\n",
    "celkem_projekt"
   ]
  },
  {
   "attachments": {},
   "cell_type": "markdown",
   "metadata": {},
   "source": [
    "slouceni celkem_projekt a hodiny_mesto_projekt pres projekt.......dotaz existuje je jednodussi zapis, kdyz chci pohled s castecnymi(celkovymi) soucty po jednotlivych sloupcich lepe receno hodnotach ve sloupcich..jako v tomto pripade soucet hodin za projekt ,ale i za mesto uvedenemu pod projektem?"
   ]
  },
  {
   "cell_type": "code",
   "execution_count": 98,
   "metadata": {},
   "outputs": [
    {
     "data": {
      "text/html": [
       "<div>\n",
       "<style scoped>\n",
       "    .dataframe tbody tr th:only-of-type {\n",
       "        vertical-align: middle;\n",
       "    }\n",
       "\n",
       "    .dataframe tbody tr th {\n",
       "        vertical-align: top;\n",
       "    }\n",
       "\n",
       "    .dataframe thead th {\n",
       "        text-align: right;\n",
       "    }\n",
       "</style>\n",
       "<table border=\"1\" class=\"dataframe\">\n",
       "  <thead>\n",
       "    <tr style=\"text-align: right;\">\n",
       "      <th></th>\n",
       "      <th>project</th>\n",
       "      <th>mesto</th>\n",
       "      <th>hours</th>\n",
       "      <th>celkem_hodin_projekt</th>\n",
       "    </tr>\n",
       "  </thead>\n",
       "  <tbody>\n",
       "    <tr>\n",
       "      <th>0</th>\n",
       "      <td>F30</td>\n",
       "      <td>Plzeň</td>\n",
       "      <td>10.3</td>\n",
       "      <td>21.5</td>\n",
       "    </tr>\n",
       "    <tr>\n",
       "      <th>1</th>\n",
       "      <td>F30</td>\n",
       "      <td>Praha</td>\n",
       "      <td>11.2</td>\n",
       "      <td>21.5</td>\n",
       "    </tr>\n",
       "    <tr>\n",
       "      <th>2</th>\n",
       "      <td>JL9</td>\n",
       "      <td>Praha</td>\n",
       "      <td>2.1</td>\n",
       "      <td>2.1</td>\n",
       "    </tr>\n",
       "    <tr>\n",
       "      <th>3</th>\n",
       "      <td>TE1</td>\n",
       "      <td>Liberec</td>\n",
       "      <td>10.8</td>\n",
       "      <td>16.0</td>\n",
       "    </tr>\n",
       "    <tr>\n",
       "      <th>4</th>\n",
       "      <td>TE1</td>\n",
       "      <td>Praha</td>\n",
       "      <td>5.2</td>\n",
       "      <td>16.0</td>\n",
       "    </tr>\n",
       "    <tr>\n",
       "      <th>5</th>\n",
       "      <td>W05</td>\n",
       "      <td>Liberec</td>\n",
       "      <td>5.4</td>\n",
       "      <td>30.5</td>\n",
       "    </tr>\n",
       "    <tr>\n",
       "      <th>6</th>\n",
       "      <td>W05</td>\n",
       "      <td>Praha</td>\n",
       "      <td>25.1</td>\n",
       "      <td>30.5</td>\n",
       "    </tr>\n",
       "    <tr>\n",
       "      <th>7</th>\n",
       "      <td>YLI</td>\n",
       "      <td>Liberec</td>\n",
       "      <td>11.8</td>\n",
       "      <td>31.0</td>\n",
       "    </tr>\n",
       "    <tr>\n",
       "      <th>8</th>\n",
       "      <td>YLI</td>\n",
       "      <td>Plzeň</td>\n",
       "      <td>5.3</td>\n",
       "      <td>31.0</td>\n",
       "    </tr>\n",
       "    <tr>\n",
       "      <th>9</th>\n",
       "      <td>YLI</td>\n",
       "      <td>Praha</td>\n",
       "      <td>13.9</td>\n",
       "      <td>31.0</td>\n",
       "    </tr>\n",
       "  </tbody>\n",
       "</table>\n",
       "</div>"
      ],
      "text/plain": [
       "  project    mesto  hours  celkem_hodin_projekt\n",
       "0     F30    Plzeň   10.3                  21.5\n",
       "1     F30    Praha   11.2                  21.5\n",
       "2     JL9    Praha    2.1                   2.1\n",
       "3     TE1  Liberec   10.8                  16.0\n",
       "4     TE1    Praha    5.2                  16.0\n",
       "5     W05  Liberec    5.4                  30.5\n",
       "6     W05    Praha   25.1                  30.5\n",
       "7     YLI  Liberec   11.8                  31.0\n",
       "8     YLI    Plzeň    5.3                  31.0\n",
       "9     YLI    Praha   13.9                  31.0"
      ]
     },
     "execution_count": 98,
     "metadata": {},
     "output_type": "execute_result"
    }
   ],
   "source": [
    "vysledek = hodiny_mesto_projekt.merge(celkem_projekt, on='project', how=\"outer\")\n",
    "#vysledek.info() # 1O zaznamu odpovida 10 zaznamum v hodiny_mesto_project\n",
    "vysledek"
   ]
  }
 ],
 "metadata": {
  "kernelspec": {
   "display_name": "Python 3",
   "language": "python",
   "name": "python3"
  },
  "language_info": {
   "codemirror_mode": {
    "name": "ipython",
    "version": 3
   },
   "file_extension": ".py",
   "mimetype": "text/x-python",
   "name": "python",
   "nbconvert_exporter": "python",
   "pygments_lexer": "ipython3",
   "version": "3.9.2"
  },
  "orig_nbformat": 4
 },
 "nbformat": 4,
 "nbformat_minor": 2
}
